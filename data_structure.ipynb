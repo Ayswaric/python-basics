{
  "nbformat": 4,
  "nbformat_minor": 0,
  "metadata": {
    "colab": {
      "provenance": [],
      "authorship_tag": "ABX9TyNxuS9yYqBE5E6sia/MVEOL",
      "include_colab_link": true
    },
    "kernelspec": {
      "name": "python3",
      "display_name": "Python 3"
    },
    "language_info": {
      "name": "python"
    }
  },
  "cells": [
    {
      "cell_type": "markdown",
      "metadata": {
        "id": "view-in-github",
        "colab_type": "text"
      },
      "source": [
        "<a href=\"https://colab.research.google.com/github/Ayswaric/python-basics/blob/main/data_structure.ipynb\" target=\"_parent\"><img src=\"https://colab.research.google.com/assets/colab-badge.svg\" alt=\"Open In Colab\"/></a>"
      ]
    },
    {
      "cell_type": "markdown",
      "source": [
        "Data Types and Structures Questions"
      ],
      "metadata": {
        "id": "uGfAeealfLb3"
      }
    },
    {
      "cell_type": "markdown",
      "source": [
        "1. What are data structures, and why are they important?"
      ],
      "metadata": {
        "id": "OSgTcFYkfR2J"
      }
    },
    {
      "cell_type": "markdown",
      "source": [
        "ans=Data structures are specialized formats for organizing, storing, and accessing collections of data. They provide efficient ways to manage information based on its characteristics and intended use.\n",
        "They are important becouse:\n",
        "1.Choosing the right data structure significantly impacts the efficiency and performance of your program.\n",
        "2.Well-chosen data structures can:\n",
        "Simplify data manipulation (adding, removing, modifying elements)\n",
        "Optimize searching and sorting operations\n",
        "Conserve memory usage"
      ],
      "metadata": {
        "id": "Nf9B4-aifH4J"
      }
    },
    {
      "cell_type": "markdown",
      "source": [
        "2.  Explain the difference between mutable and immutable data types with examples.\n",
        "\n",
        "ans=In programming, mutable data types can be modified after they are created, while immutable data types cannot. Lists, dictionaries, and sets are mutable, whereas strings and tuples are immutable. This means you can change the elements within a mutable object, but with immutable objects, any modification results in a new object being created"
      ],
      "metadata": {
        "id": "fCWyuW2ggCgE"
      }
    },
    {
      "cell_type": "markdown",
      "source": [
        "3.What are the main differences between lists and tuples in Python?\n",
        "ans=The main differences between lists and tuples in Python center around their mutability and associated characteristics\n",
        "\n",
        "mutability:-This is the most significant difference. Lists are mutable, meaning their elements can be changed  after the list is created. Tuples are immutable, meaning their elements cannot be changed once the tuple is created.\n",
        "\n",
        "syntax:-Lists are defined using square brackets [], while tuples are defined using parentheses ()"
      ],
      "metadata": {
        "id": "kVtsXbI2gjrp"
      }
    },
    {
      "cell_type": "markdown",
      "source": [
        "4.Describe how dictionaries store data?\n",
        "ans=Dictionaries in Python store data in key-value pairs, allowing for efficient retrieval of values based on their corresponding keys. Each key must be unique, while values can be of any data type and can be duplicated. Dictionaries are unordered, mutable, and accessed via their keys."
      ],
      "metadata": {
        "id": "WcQRhU3shsMU"
      }
    },
    {
      "cell_type": "markdown",
      "source": [
        "5.Why might you use a set instead of a list in Python?\n",
        "ans-A set in Python is often preferred over a list in specific scenarios due to its inherent properties and performance characteristics\n",
        " Sets automatically ensure that all elements within them are unique. If you need to store a collection of items where duplicates are not allowed, using a set eliminates the need for manual duplicate checking and remova"
      ],
      "metadata": {
        "id": "vHzVfOrxjuhw"
      }
    },
    {
      "cell_type": "markdown",
      "source": [
        "6.What is a string in Python, and how is it different from a list?\n",
        "ans-n Python, a string is an immutable sequence of characters, while a list is a mutable sequence of items that can be of different data types. Strings are enclosed in quotes (single or double), and lists are enclosed in square brackets."
      ],
      "metadata": {
        "id": "T_tEHqXJkV62"
      }
    },
    {
      "cell_type": "markdown",
      "source": [
        "7.How do tuples ensure data integrity in Python?\n",
        "ans-Tuples in Python ensure data integrity primarily through their immutability. This characteristic means that once a tuple is created, its contents cannot be changed, added to, or removed from.\n"
      ],
      "metadata": {
        "id": "beUkdrF0kkar"
      }
    },
    {
      "cell_type": "markdown",
      "source": [
        "8. What is a hash table, and how does it relate to dictionaries in Python?\n",
        "ans-A hash table is a data structure that implements an associative array, also known as a dictionary or map. It stores key-value pairs\n",
        "Dictionaries in Python are a direct implementation of hash tables. When a key-value pair is added to a Python dictionary, the key is passed through a hash function to generate a hash value."
      ],
      "metadata": {
        "id": "-EVohz5Uk0Yy"
      }
    },
    {
      "cell_type": "markdown",
      "source": [
        "9.Can lists contain different data types in Python?\n",
        "ans-yes, lists in Python can contain elements of different data types."
      ],
      "metadata": {
        "id": "GLLPBxdtlkYf"
      }
    },
    {
      "cell_type": "markdown",
      "source": [
        "10. Explain why strings are immutable in Python?\n",
        "ans-Strings are immutable in Python to ensure safety, hashability, performance optimization, and consistent behavior across the language."
      ],
      "metadata": {
        "id": "PW4Dapqbl4Wl"
      }
    },
    {
      "cell_type": "markdown",
      "source": [
        "11.What advantages do dictionaries offer over lists for certain tasks?\n",
        "ans-Dictionaries are generally more advantageous than lists when it comes to tasks involving fast data retrieval based on unique identifiers (keys), and when you need to associate data with meaningful labels"
      ],
      "metadata": {
        "id": "cOMAVl_-m38q"
      }
    },
    {
      "cell_type": "markdown",
      "source": [
        "12.Describe a scenario where using a tuple would be preferable over a list?\n",
        "ans-A tuple is preferable to a list when the data it holds needs to remain constant and not be modified after creation. This is because tuples are immutable\n",
        "Scenario: Consider storing a user's birthdate. Once the birthdate is recorded, it shouldn't change. Using a tuple to store the day, month, and year ensures that these values remain consistent throughout the application's lifecycle."
      ],
      "metadata": {
        "id": "fOD_dPXpnOit"
      }
    },
    {
      "cell_type": "markdown",
      "source": [
        "13.How do sets handle duplicate values in Python?\n",
        "ans-Python sets are inherently designed to store only unique elements. This means that when you add duplicate values to a set, the set automatically handles them by discarding the duplicates. Only one instance of a given value will be present in the set."
      ],
      "metadata": {
        "id": "lqIKWfZtnqHc"
      }
    },
    {
      "cell_type": "markdown",
      "source": [
        "14. How does the “in” keyword work differently for lists and dictionaries?\n",
        "ans-In Python, the in keyword functions differently for lists and dictionaries. For lists, in checks for the presence of an element, while for dictionaries, it checks for the presence of a key\n"
      ],
      "metadata": {
        "id": "aCzDO-WLoSbe"
      }
    },
    {
      "cell_type": "markdown",
      "source": [
        "15. Can you modify the elements of a tuple? Explain why or why not?\n",
        "ans-No, you cannot directly modify the elements of a tuple in Python. Tuples are immutable, meaning their contents cannot be changed after creation. If you try to modify a tuple element, you will receive a TypeError\n"
      ],
      "metadata": {
        "id": "IVYHU8iyogpK"
      }
    },
    {
      "cell_type": "markdown",
      "source": [
        "16. What is a nested dictionary, and give an example of its use case?\n",
        "ans-A nested dictionary in Python is a dictionary that contains another dictionary (or dictionaries) as its values, creating a hierarchical structure. This structure allows for representing complex, multi-layered data\n",
        ""
      ],
      "metadata": {
        "id": "_ug-PP5ppK1A"
      }
    },
    {
      "cell_type": "code",
      "source": [
        "person = {\n",
        "    \"name\": \"John\",\n",
        "    \"address\": {\n",
        "        \"city\": \"New York\",\n",
        "        \"zipcode\": \"10001\"\n",
        "    }\n",
        "}\n",
        "\n",
        "# Access the city\n",
        "print(person[\"address\"][\"city\"])\n"
      ],
      "metadata": {
        "colab": {
          "base_uri": "https://localhost:8080/"
        },
        "id": "9W6dszaCt1Uw",
        "outputId": "577fbbcb-0397-4882-8ff4-1e4ea4dca198"
      },
      "execution_count": 1,
      "outputs": [
        {
          "output_type": "stream",
          "name": "stdout",
          "text": [
            "New York\n"
          ]
        }
      ]
    },
    {
      "cell_type": "markdown",
      "source": [
        "17.Describe the time complexity of accessing elements in a dictionary\n",
        "ans-Accessing elements in a dictionary (also known as a hash map or associative array) typically has a time complexity of O(1) on average, which means it takes constant time regardless of the dictionary's size. This is because dictionaries use a hash table internally to store and retrieve data, and hash table lookups are generally very fast."
      ],
      "metadata": {
        "id": "H3kCJ6NEt-F3"
      }
    },
    {
      "cell_type": "markdown",
      "source": [
        "18.In what situations are lists preferred over dictionaries?\n",
        "ans-Lists are generally preferred over dictionaries when the order of elements is important, when you need to iterate through elements sequentially, or when you frequently perform operations like appending, inserting, or deleting elements. Dictionaries, on the other hand, are more suitable when you need to quickly look up values based on unique keys.\n"
      ],
      "metadata": {
        "id": "3q5V2zS2ugCk"
      }
    },
    {
      "cell_type": "markdown",
      "source": [
        "19. Why are dictionaries considered unordered, and how does that affect data retrieval?\n",
        "ans-Dictionaries are considered unordered because they don't guarantee a specific order for their elements (key-value pairs) when you iterate through them.This lack of inherent order affects data retrieval by preventing direct indexing or slicing based on element position, unlike ordered data structures like lists or tuples."
      ],
      "metadata": {
        "id": "yzLiltQ6vGMn"
      }
    },
    {
      "cell_type": "markdown",
      "source": [
        "20.Explain the difference between a list and a dictionary in terms of data retrieval.?\n",
        "ans-In terms of data retrieval, lists and dictionaries differ significantly. Lists retrieve elements based on their numerical index (position), while dictionaries retrieve elements based on their unique keys. Lists are ordered collections, and dictionaries are unordered collections of key-value pairs."
      ],
      "metadata": {
        "id": "qdH-yLA5wZlP"
      }
    },
    {
      "cell_type": "markdown",
      "source": [
        "Practical Questions"
      ],
      "metadata": {
        "id": "coF4Ojb4wsVs"
      }
    },
    {
      "cell_type": "markdown",
      "source": [
        "1.Write a code to create a string with your name and print it\n"
      ],
      "metadata": {
        "id": "H4zdfqSKxnCR"
      }
    },
    {
      "cell_type": "code",
      "source": [
        "name = \"Ayswaric\"\n",
        "print(\"My name is\", name)\n"
      ],
      "metadata": {
        "colab": {
          "base_uri": "https://localhost:8080/"
        },
        "id": "ahw96BACyUnz",
        "outputId": "6524d07c-7e7c-4604-fe9a-2cbc59bc7d3a"
      },
      "execution_count": 2,
      "outputs": [
        {
          "output_type": "stream",
          "name": "stdout",
          "text": [
            "My name is Ayswaric\n"
          ]
        }
      ]
    },
    {
      "cell_type": "markdown",
      "source": [
        "2. Write a code to find the length of the string \"Hello World\""
      ],
      "metadata": {
        "id": "FoU_ObXAy_5X"
      }
    },
    {
      "cell_type": "code",
      "source": [
        "p=\"hello world\"\n",
        "len(p)"
      ],
      "metadata": {
        "colab": {
          "base_uri": "https://localhost:8080/"
        },
        "id": "VlX0BnFZzB2z",
        "outputId": "672afcc0-1b36-443c-b1d2-3101b23132d6"
      },
      "execution_count": 3,
      "outputs": [
        {
          "output_type": "execute_result",
          "data": {
            "text/plain": [
              "11"
            ]
          },
          "metadata": {},
          "execution_count": 3
        }
      ]
    },
    {
      "cell_type": "markdown",
      "source": [
        "3.Write a code to slice the first 3 characters from the string \"Python Programming\""
      ],
      "metadata": {
        "id": "jP_k5HSizaOh"
      }
    },
    {
      "cell_type": "code",
      "source": [
        "string=\"python programming\"\n",
        "string[:3]"
      ],
      "metadata": {
        "colab": {
          "base_uri": "https://localhost:8080/",
          "height": 35
        },
        "id": "EsSc9v-9zdik",
        "outputId": "9caca7f5-39bd-4aad-911b-415362d71116"
      },
      "execution_count": 5,
      "outputs": [
        {
          "output_type": "execute_result",
          "data": {
            "text/plain": [
              "'pyt'"
            ],
            "application/vnd.google.colaboratory.intrinsic+json": {
              "type": "string"
            }
          },
          "metadata": {},
          "execution_count": 5
        }
      ]
    },
    {
      "cell_type": "markdown",
      "source": [
        "4. Write a code to convert the string \"hello\" to uppercase"
      ],
      "metadata": {
        "id": "008OP9RT0PfE"
      }
    },
    {
      "cell_type": "code",
      "source": [
        "string=\"hello\"\n",
        "string.upper()"
      ],
      "metadata": {
        "colab": {
          "base_uri": "https://localhost:8080/",
          "height": 35
        },
        "id": "r35Fdjoc0fGs",
        "outputId": "15b10f6c-0cc4-4865-f97d-16570900f6de"
      },
      "execution_count": 6,
      "outputs": [
        {
          "output_type": "execute_result",
          "data": {
            "text/plain": [
              "'HELLO'"
            ],
            "application/vnd.google.colaboratory.intrinsic+json": {
              "type": "string"
            }
          },
          "metadata": {},
          "execution_count": 6
        }
      ]
    },
    {
      "cell_type": "markdown",
      "source": [
        "5.Write a code to replace the word \"apple\" with \"orange\" in the string \"I like apple\""
      ],
      "metadata": {
        "id": "UBW5ikXi0ujA"
      }
    },
    {
      "cell_type": "code",
      "source": [
        "string=\"i like apple\"\n",
        "string.replace(\"apple\",\"orange\")"
      ],
      "metadata": {
        "colab": {
          "base_uri": "https://localhost:8080/",
          "height": 35
        },
        "id": "pxGWOtPt01yL",
        "outputId": "ba3a9769-b985-4241-ee00-7a06df3c94fa"
      },
      "execution_count": 7,
      "outputs": [
        {
          "output_type": "execute_result",
          "data": {
            "text/plain": [
              "'i like orange'"
            ],
            "application/vnd.google.colaboratory.intrinsic+json": {
              "type": "string"
            }
          },
          "metadata": {},
          "execution_count": 7
        }
      ]
    },
    {
      "cell_type": "markdown",
      "source": [
        "6. Write a code to create a list with numbers 1 to 5 and print it"
      ],
      "metadata": {
        "id": "zMlElAft1EUP"
      }
    },
    {
      "cell_type": "code",
      "source": [
        "list=[1,2,3,4,5]\n",
        "print(list)"
      ],
      "metadata": {
        "colab": {
          "base_uri": "https://localhost:8080/"
        },
        "id": "_Pp7t7Kw1Igx",
        "outputId": "a680f148-224c-4f0f-a3ca-4f5a93dec6f7"
      },
      "execution_count": 8,
      "outputs": [
        {
          "output_type": "stream",
          "name": "stdout",
          "text": [
            "[1, 2, 3, 4, 5]\n"
          ]
        }
      ]
    },
    {
      "cell_type": "markdown",
      "source": [
        "7.Write a code to append the number 10 to the list [1, 2, 3, 4]"
      ],
      "metadata": {
        "id": "tArJ-qBB1SlL"
      }
    },
    {
      "cell_type": "code",
      "source": [
        "num=[1,2,3,4]\n",
        "num.append(10)\n",
        "print(num)"
      ],
      "metadata": {
        "colab": {
          "base_uri": "https://localhost:8080/"
        },
        "id": "2szmzqLW1Ygc",
        "outputId": "2dae341f-f549-4732-920e-84c05b526d02"
      },
      "execution_count": 14,
      "outputs": [
        {
          "output_type": "stream",
          "name": "stdout",
          "text": [
            "[1, 2, 3, 4, 10]\n"
          ]
        }
      ]
    },
    {
      "cell_type": "markdown",
      "source": [
        "8.Write a code to remove the number 3 from the list [1, 2, 3, 4, 5]"
      ],
      "metadata": {
        "id": "VPK1o4IE1sXJ"
      }
    },
    {
      "cell_type": "code",
      "source": [
        "num=[1,2,3,4,5]\n",
        "num.remove(3)\n",
        "print(num)"
      ],
      "metadata": {
        "colab": {
          "base_uri": "https://localhost:8080/"
        },
        "id": "_FjqZlts1zEo",
        "outputId": "c2f74a63-6c02-4b5f-a45d-847f02cf55f3"
      },
      "execution_count": 15,
      "outputs": [
        {
          "output_type": "stream",
          "name": "stdout",
          "text": [
            "[1, 2, 4, 5]\n"
          ]
        }
      ]
    },
    {
      "cell_type": "markdown",
      "source": [
        "9.Write a code to access the second element in the list ['a', 'b', 'c', 'd']\n"
      ],
      "metadata": {
        "id": "q25HU-XQ1-tk"
      }
    },
    {
      "cell_type": "code",
      "source": [
        "list=['a','b','c','d']\n",
        "list[-3]"
      ],
      "metadata": {
        "colab": {
          "base_uri": "https://localhost:8080/",
          "height": 35
        },
        "id": "dMnWbWeZ2GyD",
        "outputId": "336b5d4e-7775-4781-a4d2-e194ea6ae718"
      },
      "execution_count": 18,
      "outputs": [
        {
          "output_type": "execute_result",
          "data": {
            "text/plain": [
              "'b'"
            ],
            "application/vnd.google.colaboratory.intrinsic+json": {
              "type": "string"
            }
          },
          "metadata": {},
          "execution_count": 18
        }
      ]
    },
    {
      "cell_type": "markdown",
      "source": [
        "10.Write a code to reverse the list [10, 20, 30, 40, 50]"
      ],
      "metadata": {
        "id": "8NI6jTKC2dmp"
      }
    },
    {
      "cell_type": "code",
      "source": [
        "list=[10,20,30,40,50]\n",
        "list.reverse()\n",
        "print(list)"
      ],
      "metadata": {
        "colab": {
          "base_uri": "https://localhost:8080/"
        },
        "id": "mN2IWFfZ2fmR",
        "outputId": "7551ce7c-dfb4-4555-a2ac-611ede7b9170"
      },
      "execution_count": 24,
      "outputs": [
        {
          "output_type": "stream",
          "name": "stdout",
          "text": [
            "[50, 40, 30, 20, 10]\n"
          ]
        }
      ]
    },
    {
      "cell_type": "markdown",
      "source": [
        "11. Write a code to create a tuple with the elements 100, 200, 300 and print it"
      ],
      "metadata": {
        "id": "QAt2-Dmj2-r-"
      }
    },
    {
      "cell_type": "code",
      "source": [
        "my_tuple = (100, 200, 300)\n",
        "print(my_tuple)"
      ],
      "metadata": {
        "colab": {
          "base_uri": "https://localhost:8080/"
        },
        "id": "3eT0NSYH3EzU",
        "outputId": "64da1b8d-ae4f-4641-c0a9-f7a48a299d12"
      },
      "execution_count": 25,
      "outputs": [
        {
          "output_type": "stream",
          "name": "stdout",
          "text": [
            "(100, 200, 300)\n"
          ]
        }
      ]
    },
    {
      "cell_type": "markdown",
      "source": [
        "12.Write a code to access the second-to-last element of the tuple ('red', 'green', 'blue', 'yellow')"
      ],
      "metadata": {
        "id": "zNgkmBTj3GdK"
      }
    },
    {
      "cell_type": "code",
      "source": [
        "my_tuple = ('red', 'green', 'blue', 'yellow')\n",
        "my_tuple[-2]"
      ],
      "metadata": {
        "colab": {
          "base_uri": "https://localhost:8080/",
          "height": 35
        },
        "id": "zwb0_dcW3Nbs",
        "outputId": "110ca9e4-9404-4637-bd5f-16c467573284"
      },
      "execution_count": 28,
      "outputs": [
        {
          "output_type": "execute_result",
          "data": {
            "text/plain": [
              "'blue'"
            ],
            "application/vnd.google.colaboratory.intrinsic+json": {
              "type": "string"
            }
          },
          "metadata": {},
          "execution_count": 28
        }
      ]
    },
    {
      "cell_type": "markdown",
      "source": [
        "13.Write a code to find the minimum number in the tuple (10, 20, 5, 15)"
      ],
      "metadata": {
        "id": "2m3rj9ln3a_8"
      }
    },
    {
      "cell_type": "code",
      "source": [
        "my_tuple = (10, 20, 5, 15)\n",
        "min(my_tuple)"
      ],
      "metadata": {
        "colab": {
          "base_uri": "https://localhost:8080/"
        },
        "id": "WplAm7cM3fZT",
        "outputId": "cf61ab5d-6202-4ff4-c1c2-79c426bb1095"
      },
      "execution_count": 29,
      "outputs": [
        {
          "output_type": "execute_result",
          "data": {
            "text/plain": [
              "5"
            ]
          },
          "metadata": {},
          "execution_count": 29
        }
      ]
    },
    {
      "cell_type": "markdown",
      "source": [
        "14. Write a code to find the index of the element \"cat\" in the tuple ('dog', 'cat', 'rabbit')."
      ],
      "metadata": {
        "id": "Sqz68rsf3nxE"
      }
    },
    {
      "cell_type": "code",
      "source": [
        "my_tuple = ('dog', 'cat', 'rabbit')\n",
        "my_tuple.index('cat')"
      ],
      "metadata": {
        "colab": {
          "base_uri": "https://localhost:8080/"
        },
        "id": "XaaNYLbv4JeV",
        "outputId": "f8487887-7c0d-4350-83b6-0f2076b29edd"
      },
      "execution_count": 32,
      "outputs": [
        {
          "output_type": "execute_result",
          "data": {
            "text/plain": [
              "1"
            ]
          },
          "metadata": {},
          "execution_count": 32
        }
      ]
    },
    {
      "cell_type": "markdown",
      "source": [
        "15. Write a code to create a tuple containing three different fruits and check if \"kiwi\" is in it\n"
      ],
      "metadata": {
        "id": "k-yHUwxO4Rwu"
      }
    },
    {
      "cell_type": "code",
      "source": [
        "fruits = (\"apple\", \"banana\", \"mango\")\n",
        "\n",
        "if \"kiwi\" in fruits:\n",
        "    print(\"Kiwi is in the tuple.\")\n",
        "else:\n",
        "    print(\"Kiwi is not in the tuple.\")\n"
      ],
      "metadata": {
        "colab": {
          "base_uri": "https://localhost:8080/"
        },
        "id": "u55xaVm64Z_g",
        "outputId": "85c09552-a9d0-4d08-b5a2-324704e2bf23"
      },
      "execution_count": 37,
      "outputs": [
        {
          "output_type": "stream",
          "name": "stdout",
          "text": [
            "Kiwi is not in the tuple.\n"
          ]
        }
      ]
    },
    {
      "cell_type": "markdown",
      "source": [
        "16. Write a code to create a set with the elements 'a', 'b', 'c' and print it."
      ],
      "metadata": {
        "id": "78fgQDig5ht2"
      }
    },
    {
      "cell_type": "code",
      "source": [
        "my_set = {'a', 'b', 'c'}\n",
        "print(my_set)"
      ],
      "metadata": {
        "colab": {
          "base_uri": "https://localhost:8080/"
        },
        "id": "SVKYydSQ5r_7",
        "outputId": "f5388158-c50d-432f-a68d-96cc79c6e71b"
      },
      "execution_count": 38,
      "outputs": [
        {
          "output_type": "stream",
          "name": "stdout",
          "text": [
            "{'b', 'a', 'c'}\n"
          ]
        }
      ]
    },
    {
      "cell_type": "markdown",
      "source": [
        "17.Write a code to clear all elements from the set {1, 2, 3, 4, 5}.\n"
      ],
      "metadata": {
        "id": "plSshOCZ51Fg"
      }
    },
    {
      "cell_type": "code",
      "source": [
        "set={1,2,3,4,5}\n",
        "set.clear()\n",
        "print(set)"
      ],
      "metadata": {
        "colab": {
          "base_uri": "https://localhost:8080/"
        },
        "id": "IiGyIbO2536z",
        "outputId": "46fb24c8-291b-480b-eb66-12f6bd79977d"
      },
      "execution_count": 39,
      "outputs": [
        {
          "output_type": "stream",
          "name": "stdout",
          "text": [
            "set()\n"
          ]
        }
      ]
    },
    {
      "cell_type": "markdown",
      "source": [
        "18.. Write a code to remove the element 4 from the set {1, 2, 3, 4}."
      ],
      "metadata": {
        "id": "4RSoYN0D6A6D"
      }
    },
    {
      "cell_type": "code",
      "source": [
        "set={1,2,3,4}\n",
        "set.remove(4)\n",
        "print(set)"
      ],
      "metadata": {
        "colab": {
          "base_uri": "https://localhost:8080/"
        },
        "id": "9TA572K36Dlm",
        "outputId": "ae305979-77a7-4431-aaa1-23daba89709c"
      },
      "execution_count": 40,
      "outputs": [
        {
          "output_type": "stream",
          "name": "stdout",
          "text": [
            "{1, 2, 3}\n"
          ]
        }
      ]
    },
    {
      "cell_type": "markdown",
      "source": [
        "19.Write a code to find the union of two sets {1, 2, 3} and {3, 4, 5}."
      ],
      "metadata": {
        "id": "wG8dBkmk6KqH"
      }
    },
    {
      "cell_type": "code",
      "source": [
        "set1={1,2,3}\n",
        "set2={3,4,5}\n",
        "set1.union(set2)"
      ],
      "metadata": {
        "colab": {
          "base_uri": "https://localhost:8080/"
        },
        "id": "RkYJcZ-S6Opy",
        "outputId": "ba516513-700d-40c4-a6d1-581b4a4d49c7"
      },
      "execution_count": 41,
      "outputs": [
        {
          "output_type": "execute_result",
          "data": {
            "text/plain": [
              "{1, 2, 3, 4, 5}"
            ]
          },
          "metadata": {},
          "execution_count": 41
        }
      ]
    },
    {
      "cell_type": "markdown",
      "source": [
        "20.Write a code to find the intersection of two sets {1, 2, 3} and {2, 3, 4}."
      ],
      "metadata": {
        "id": "ocMqS0Kr66CX"
      }
    },
    {
      "cell_type": "code",
      "source": [
        "set1={1,2,3}\n",
        "set2={2,3,4}\n",
        "set1.intersection(set2)"
      ],
      "metadata": {
        "colab": {
          "base_uri": "https://localhost:8080/"
        },
        "id": "3Az2wJYE68Kc",
        "outputId": "9a77dd48-1b77-4f91-802d-df19a1bade9e"
      },
      "execution_count": 43,
      "outputs": [
        {
          "output_type": "execute_result",
          "data": {
            "text/plain": [
              "{2, 3}"
            ]
          },
          "metadata": {},
          "execution_count": 43
        }
      ]
    },
    {
      "cell_type": "markdown",
      "source": [
        "21.Write a code to create a dictionary with the keys \"name\", \"age\", and \"city\", and print it."
      ],
      "metadata": {
        "id": "U1B-dxKR61GY"
      }
    },
    {
      "cell_type": "code",
      "source": [
        "d = {'name': 'Ayswaric', 'age': 25, 'city': 'Guwahati'}\n",
        "print(d)"
      ],
      "metadata": {
        "colab": {
          "base_uri": "https://localhost:8080/"
        },
        "id": "swtBNEYC7SP5",
        "outputId": "bb646504-fc7b-4a85-b67c-ad6053f58872"
      },
      "execution_count": 48,
      "outputs": [
        {
          "output_type": "stream",
          "name": "stdout",
          "text": [
            "{'name': 'Ayswaric', 'age': 25, 'city': 'Guwahati'}\n"
          ]
        }
      ]
    },
    {
      "cell_type": "markdown",
      "source": [
        "22.Write a code to add a new key-value pair \"country\": \"USA\" to the dictionary {'name': 'John', 'age': 25}."
      ],
      "metadata": {
        "id": "kxIe6T-n7xfT"
      }
    },
    {
      "cell_type": "code",
      "source": [
        "d={'name': 'John', 'age': 25}\n",
        "d['country']=\"USA\"\n",
        "print(d)"
      ],
      "metadata": {
        "colab": {
          "base_uri": "https://localhost:8080/"
        },
        "id": "QgngKUGJ77YE",
        "outputId": "b3847db4-eec7-47a7-89c7-bdb49410b025"
      },
      "execution_count": 52,
      "outputs": [
        {
          "output_type": "stream",
          "name": "stdout",
          "text": [
            "{'name': 'John', 'age': 25, 'country': 'USA'}\n"
          ]
        }
      ]
    },
    {
      "cell_type": "markdown",
      "source": [
        "23.Write a code to access the value associated with the key \"name\" in the dictionary {'name': 'Alice', 'age': 30}.\n",
        "\n"
      ],
      "metadata": {
        "id": "et3zeUAW8gId"
      }
    },
    {
      "cell_type": "code",
      "source": [
        "d={'name':'Alice','age':'30'}\n",
        "d['name']\n",
        "print(d)"
      ],
      "metadata": {
        "colab": {
          "base_uri": "https://localhost:8080/"
        },
        "id": "GSonqU8B8mP6",
        "outputId": "c9847a67-dc04-4c88-8c82-f9705a0af8e3"
      },
      "execution_count": 53,
      "outputs": [
        {
          "output_type": "stream",
          "name": "stdout",
          "text": [
            "{'name': 'Alice', 'age': '30'}\n"
          ]
        }
      ]
    },
    {
      "cell_type": "code",
      "source": [
        "24.Write a code to remove the key \"age\" from the dictionary {'name': 'Bob', 'age': 22, 'city': 'New York'}"
      ],
      "metadata": {
        "id": "6_jUrpmt9Yty"
      },
      "execution_count": null,
      "outputs": []
    },
    {
      "cell_type": "code",
      "source": [
        "d={'name': 'Bob', 'age': 22, 'city': 'New York'}\n",
        "del d['age']\n",
        "print(d)"
      ],
      "metadata": {
        "colab": {
          "base_uri": "https://localhost:8080/"
        },
        "id": "2KJDPm8W9aNo",
        "outputId": "1f3c7bac-e4a8-4b92-a576-ac729b099c83"
      },
      "execution_count": 54,
      "outputs": [
        {
          "output_type": "stream",
          "name": "stdout",
          "text": [
            "{'name': 'Bob', 'city': 'New York'}\n"
          ]
        }
      ]
    },
    {
      "cell_type": "markdown",
      "source": [
        "25. Write a code to check if the key \"city\" exists in the dictionary {'name': 'Alice', 'city': 'Paris'}"
      ],
      "metadata": {
        "id": "GPlateY29jio"
      }
    },
    {
      "cell_type": "code",
      "source": [
        "d={'name': 'Alice', 'city': 'Paris'}\n",
        "if 'city' in d:\n",
        "    print(\"Key 'city' exists in the dictionary.\")\n",
        "else:\n",
        "    print(\"Key 'city' does not exist in the dictionary.\")"
      ],
      "metadata": {
        "colab": {
          "base_uri": "https://localhost:8080/"
        },
        "id": "4Qnhza629qKq",
        "outputId": "9cc2d23e-b045-4170-ef5a-bb56745a846e"
      },
      "execution_count": 55,
      "outputs": [
        {
          "output_type": "stream",
          "name": "stdout",
          "text": [
            "Key 'city' exists in the dictionary.\n"
          ]
        }
      ]
    },
    {
      "cell_type": "markdown",
      "source": [
        "26.Write a code to create a list, a tuple, and a dictionary, and print them all"
      ],
      "metadata": {
        "id": "KznyEWDI9296"
      }
    },
    {
      "cell_type": "code",
      "source": [
        "\n",
        "my_list = [\"apple\", \"banana\", \"cherry\"]\n",
        "\n",
        "\n",
        "my_tuple = (\"red\", \"green\", \"blue\")\n",
        "\n",
        "my_dict = {\"name\": \"Ayswaric\", \"age\": 23, \"city\": \"Guwahati\"}\n",
        "\n",
        "print(\"List:\", my_list)\n",
        "print(\"Tuple:\", my_tuple)\n",
        "print(\"Dictionary:\", my_dict)\n"
      ],
      "metadata": {
        "colab": {
          "base_uri": "https://localhost:8080/"
        },
        "id": "aTu7a3fi99QP",
        "outputId": "727eab98-16ba-45f7-cdae-667ad7111e42"
      },
      "execution_count": 56,
      "outputs": [
        {
          "output_type": "stream",
          "name": "stdout",
          "text": [
            "List: ['apple', 'banana', 'cherry']\n",
            "Tuple: ('red', 'green', 'blue')\n",
            "Dictionary: {'name': 'Ayswaric', 'age': 23, 'city': 'Guwahati'}\n"
          ]
        }
      ]
    },
    {
      "cell_type": "markdown",
      "source": [
        "27. Write a code to create a list of 5 random numbers between 1 and 100, sort it in ascending order, and print the\n",
        "result.(replaced)"
      ],
      "metadata": {
        "id": "GxlkQUHg-TDw"
      }
    },
    {
      "cell_type": "code",
      "source": [
        "import random\n",
        "\n",
        "# Generate 5 random numbers between 1 and 100\n",
        "random_numbers = [random.randint(1, 100) for _ in range(5)]\n",
        "\n",
        "# Sort the list in ascending order\n",
        "random_numbers.sort()\n",
        "\n",
        "# Print the sorted list\n",
        "print(random_numbers)"
      ],
      "metadata": {
        "colab": {
          "base_uri": "https://localhost:8080/"
        },
        "id": "aho8pRlf-qqN",
        "outputId": "7d4b825f-d49e-4333-d09c-0d4962ddb041"
      },
      "execution_count": 60,
      "outputs": [
        {
          "output_type": "stream",
          "name": "stdout",
          "text": [
            "[8, 17, 29, 64, 88]\n"
          ]
        }
      ]
    },
    {
      "cell_type": "markdown",
      "source": [
        "28.Write a code to create a list with strings and print the element at the third index"
      ],
      "metadata": {
        "id": "M74tqZi4_HDv"
      }
    },
    {
      "cell_type": "code",
      "source": [
        "list=[\"aysw\",\"nath\",\"scl\",\"ghy\"]\n",
        "list[2]\n",
        "\n"
      ],
      "metadata": {
        "colab": {
          "base_uri": "https://localhost:8080/",
          "height": 35
        },
        "id": "dKzQfa9y_O-G",
        "outputId": "bc82a9f6-1440-4d97-92a9-46882ea58d3f"
      },
      "execution_count": 62,
      "outputs": [
        {
          "output_type": "execute_result",
          "data": {
            "text/plain": [
              "'scl'"
            ],
            "application/vnd.google.colaboratory.intrinsic+json": {
              "type": "string"
            }
          },
          "metadata": {},
          "execution_count": 62
        }
      ]
    },
    {
      "cell_type": "markdown",
      "source": [
        "29. Write a code to combine two dictionaries into one and print the result"
      ],
      "metadata": {
        "id": "jAO2ZYVG_28t"
      }
    },
    {
      "cell_type": "code",
      "source": [
        "dict1 = {\"a\": 1, \"b\": 2}\n",
        "dict2 = {\"c\": 3, \"d\": 4}\n",
        "dict = {**dict1, **dict2}\n",
        "print(dict)\n"
      ],
      "metadata": {
        "colab": {
          "base_uri": "https://localhost:8080/"
        },
        "id": "lcnyr6wC_44h",
        "outputId": "d6345964-ab13-469d-88c7-bbe7f6c5b39d"
      },
      "execution_count": 63,
      "outputs": [
        {
          "output_type": "stream",
          "name": "stdout",
          "text": [
            "{'a': 1, 'b': 2, 'c': 3, 'd': 4}\n"
          ]
        }
      ]
    },
    {
      "cell_type": "markdown",
      "source": [
        "30. Write a code to convert a list of strings into a set"
      ],
      "metadata": {
        "id": "71s1ROrzAKXG"
      }
    },
    {
      "cell_type": "code",
      "source": [
        "# List of strings\n",
        "my_list = [\"apple\", \"banana\", \"cherry\", \"apple\", \"banana\"]\n",
        "\n",
        "# Convert list to set\n",
        "my_set = set(my_list)\n",
        "\n",
        "# Print the set\n",
        "print(my_set)"
      ],
      "metadata": {
        "colab": {
          "base_uri": "https://localhost:8080/",
          "height": 211
        },
        "id": "KodvYR66CLq_",
        "outputId": "dcf7382b-268b-46c3-c0aa-2e49ef622d25"
      },
      "execution_count": 78,
      "outputs": [
        {
          "output_type": "error",
          "ename": "TypeError",
          "evalue": "'set' object is not callable",
          "traceback": [
            "\u001b[0;31m---------------------------------------------------------------------------\u001b[0m",
            "\u001b[0;31mTypeError\u001b[0m                                 Traceback (most recent call last)",
            "\u001b[0;32m/tmp/ipython-input-78-683344447.py\u001b[0m in \u001b[0;36m<cell line: 0>\u001b[0;34m()\u001b[0m\n\u001b[1;32m      3\u001b[0m \u001b[0;34m\u001b[0m\u001b[0m\n\u001b[1;32m      4\u001b[0m \u001b[0;31m# Convert list to set\u001b[0m\u001b[0;34m\u001b[0m\u001b[0;34m\u001b[0m\u001b[0m\n\u001b[0;32m----> 5\u001b[0;31m \u001b[0mmy_set\u001b[0m \u001b[0;34m=\u001b[0m \u001b[0mset\u001b[0m\u001b[0;34m(\u001b[0m\u001b[0mmy_list\u001b[0m\u001b[0;34m)\u001b[0m\u001b[0;34m\u001b[0m\u001b[0;34m\u001b[0m\u001b[0m\n\u001b[0m\u001b[1;32m      6\u001b[0m \u001b[0;34m\u001b[0m\u001b[0m\n\u001b[1;32m      7\u001b[0m \u001b[0;31m# Print the set\u001b[0m\u001b[0;34m\u001b[0m\u001b[0;34m\u001b[0m\u001b[0m\n",
            "\u001b[0;31mTypeError\u001b[0m: 'set' object is not callable"
          ]
        }
      ]
    }
  ]
}