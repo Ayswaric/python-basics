{
  "nbformat": 4,
  "nbformat_minor": 0,
  "metadata": {
    "colab": {
      "provenance": [],
      "authorship_tag": "ABX9TyOPUzFg2B4cIrkIhvdf13tp",
      "include_colab_link": true
    },
    "kernelspec": {
      "name": "python3",
      "display_name": "Python 3"
    },
    "language_info": {
      "name": "python"
    }
  },
  "cells": [
    {
      "cell_type": "markdown",
      "metadata": {
        "id": "view-in-github",
        "colab_type": "text"
      },
      "source": [
        "<a href=\"https://colab.research.google.com/github/Ayswaric/python-basics/blob/main/python_basic.ipynb\" target=\"_parent\"><img src=\"https://colab.research.google.com/assets/colab-badge.svg\" alt=\"Open In Colab\"/></a>"
      ]
    },
    {
      "cell_type": "markdown",
      "source": [
        "#python basic questions\n"
      ],
      "metadata": {
        "id": "dDAS9iP-3v3J"
      }
    },
    {
      "cell_type": "markdown",
      "source": [
        "# 1. What is Python, and why is it popular ?\n",
        "-> Python is a high-level, easy-to-read programming language used for a wide range of applications in other words,Python is a programming language that is easy to understand and write, making it a popular choice among developers and programmers.\n",
        "it is popular because it is easy to understand it is widely used in data industry, it has lot of libraries.\n",
        "\n",
        "#2.What is an interpreter in Python ?\n",
        "-> A program that executes Python code line by line, translating it into machine code at runtime.It allows immediate execution of code without compiling.\n",
        "If an error occurs, the interpreter stops at that line and displays the error message.Python uses an interpreter to make development faster and easier, especially for beginners\n",
        "\n",
        "#3.What are pre-defined keywords in Python ?\n",
        "-> Keywords are reserved words in Python that have special meanings and cannot be used as identifiers (variable names, function names, etc.).\n",
        "Examples of keywords include if, else, while, for, def, class, import, try, except, return, True, False, None, etc.\n",
        "Keywords are case-sensitive and cannot be redefined or overridden within a Python program.\n",
        "\n",
        "#4.Can keywords be used as variable names ?\n",
        "->No, keywords cannot be used as variable names.\n",
        "#5.What is mutability in Python ?\n",
        "->Mutability means change or edit. so, if you want to change any value inside a list by other value you can do it using mutability.\n",
        "\n",
        "#6.Why are lists mutable, but tuples are immutable ?\n",
        "->Lists are mutable because they are designed to allow dynamic changes after creation, while tuples are immutable to ensure data integrity and predictability.\n",
        "\n",
        "#7. What is the difference between “==” and “is” operators in Python?\n",
        "->The == and is operators in Python are both used for comparison\n",
        "\"==\"(eqality operator) compares the value of two object\n",
        "\"IS\"(identity operator) Checks if two variables refer to the same object in memory.\n",
        "\n",
        "#8. What are logical operators in Python?\n",
        "-> Logical operators in Python are used to combine or modify boolean expressions (True or False). There are three logical operators: and, or, and not.\n",
        "\n",
        "#9.What is type casting in Python ?\n",
        "-> Type casting, also referred to as type conversion, is the process of changing one data type to another in Python. it is the process of changing a variable's data type from one to another.\n",
        "\n",
        "#10.What is the difference between implicit and explicit type casting ?\n",
        "->Implicit type casting, also known as widening or upcasting, is when the compiler automatically converts a data type to a larger or more inclusive type. Explicit type casting, also called narrowing or downcasting, requires the programmer to use a cast operator to manually convert a data type to a smaller or less inclusive type\n",
        "\n",
        "#11.What is the purpose of conditional statements in Python ?\n",
        "-> Conditionals in Python are used to execute code based on the evaluation of one or more conditions.They allow programs to make decisions and execute different blocks of code accordingly\n",
        "\n",
        "#12. How does the elif statement work ?\n",
        "->The elif statement in programming languages like Python acts as a conditional branching tool, offering an alternative to the if statement when the initial if condition is not met. It allows you to check multiple conditions sequentially\n",
        "\n",
        "for example-\n",
        "age = 15\n",
        "\n",
        "if age >= 18:\n",
        "    print(\"You are an adult.\")\n",
        "elif age >= 13:\n",
        "    print(\"You are a teenager.\")\n",
        "elif age >= 7:\n",
        "    print(\"You are a child.\")\n",
        "else:\n",
        "    print(\"You are too young.\")\n",
        "\n",
        "#13.What is the difference between for and while loops?\n",
        "->difference between for and while loops is that for loops are best used when the number of iterations is known in advance, while while loops are more flexible and used when the number of iterations depends on a dynamic condition or is unknown\n",
        "\n",
        "#14.Describe a scenario where a while loop is more suitable than a for loop?\n",
        "-> A while loop is more suitable than a for loop when the number of iterations is not known beforehand and depends on a dynamic condition\n"
      ],
      "metadata": {
        "id": "xR5JYr_m33f7"
      }
    },
    {
      "cell_type": "code",
      "source": [],
      "metadata": {
        "id": "ZV3JXvETAxb1"
      },
      "execution_count": null,
      "outputs": []
    },
    {
      "cell_type": "markdown",
      "source": [
        "#PRACTICAL QUESTIONS"
      ],
      "metadata": {
        "id": "AOmVoUccA1xr"
      }
    },
    {
      "cell_type": "markdown",
      "source": [
        "#1. Write a Python program to print \"Hello, World!"
      ],
      "metadata": {
        "id": "m1HsKPXKA9gb"
      }
    },
    {
      "cell_type": "code",
      "source": [
        "print(\"Hello, World!\")\n"
      ],
      "metadata": {
        "colab": {
          "base_uri": "https://localhost:8080/"
        },
        "id": "uQT6A3dGBtrH",
        "outputId": "918fa878-7ca3-4b34-acf3-7cb29e733d52"
      },
      "execution_count": null,
      "outputs": [
        {
          "output_type": "stream",
          "name": "stdout",
          "text": [
            "Hello, World!\n"
          ]
        }
      ]
    },
    {
      "cell_type": "markdown",
      "source": [
        "#2. Write a Python program that displays your name and age"
      ],
      "metadata": {
        "id": "a80FzdEmB1fW"
      }
    },
    {
      "cell_type": "code",
      "source": [
        "# Program to display name and age\n",
        "\n",
        "name = \"Ayswaric\"\n",
        "age = 23\n",
        "\n",
        "print(\"My name is\", name)\n",
        "print(\"I am\", age, \"years old\")\n"
      ],
      "metadata": {
        "colab": {
          "base_uri": "https://localhost:8080/"
        },
        "id": "Q1FvZu1CDBgf",
        "outputId": "e2b82cb0-ae13-4430-9cd2-5b14382b49be"
      },
      "execution_count": null,
      "outputs": [
        {
          "output_type": "stream",
          "name": "stdout",
          "text": [
            "My name is Ayswaric\n",
            "I am 23 years old\n"
          ]
        }
      ]
    },
    {
      "cell_type": "markdown",
      "source": [
        "#3.Write code to print all the pre-defined keywords in Python using the keyword librar"
      ],
      "metadata": {
        "id": "4RfEMpKvDLZR"
      }
    },
    {
      "cell_type": "code",
      "source": [
        "help(\"keywords\")\n"
      ],
      "metadata": {
        "colab": {
          "base_uri": "https://localhost:8080/"
        },
        "id": "-k_qcwKiDTtj",
        "outputId": "3b5eff47-84ca-4506-d535-948c0aac3c4e"
      },
      "execution_count": null,
      "outputs": [
        {
          "output_type": "stream",
          "name": "stdout",
          "text": [
            "\n",
            "Here is a list of the Python keywords.  Enter any keyword to get more help.\n",
            "\n",
            "False               class               from                or\n",
            "None                continue            global              pass\n",
            "True                def                 if                  raise\n",
            "and                 del                 import              return\n",
            "as                  elif                in                  try\n",
            "assert              else                is                  while\n",
            "async               except              lambda              with\n",
            "await               finally             nonlocal            yield\n",
            "break               for                 not                 \n",
            "\n"
          ]
        }
      ]
    },
    {
      "cell_type": "markdown",
      "source": [
        "#4. Write a program that checks if a given word is a Python keyword"
      ],
      "metadata": {
        "id": "BsHxjTUHDwr3"
      }
    },
    {
      "cell_type": "code",
      "source": [
        "import keyword\n",
        "s=\"while\"\n",
        "if s in keyword.kwlist:\n",
        "  print(f\"'{s}' is a Python keyword.\")\n",
        "else:\n",
        "   print(f\"'{s}' is not a Python keyword.\")"
      ],
      "metadata": {
        "colab": {
          "base_uri": "https://localhost:8080/"
        },
        "id": "fE44xpy4ZWry",
        "outputId": "e2ad3105-d1e8-416d-96f6-657945358c2b"
      },
      "execution_count": 5,
      "outputs": [
        {
          "output_type": "stream",
          "name": "stdout",
          "text": [
            "'while' is a Python keyword.\n"
          ]
        }
      ]
    },
    {
      "cell_type": "markdown",
      "source": [
        "#5. Create a list and tuple in Python, and demonstrate how attempting to change an element works differently for each\n"
      ],
      "metadata": {
        "id": "YSITrnq0aKIn"
      }
    },
    {
      "cell_type": "code",
      "source": [
        "#list in python(mutable)\n",
        "list[1,2,3,4,7,8]\n"
      ],
      "metadata": {
        "colab": {
          "base_uri": "https://localhost:8080/"
        },
        "id": "Y0D5vMW6aSCn",
        "outputId": "0e9400af-faf9-4551-ba3f-94e654bdbb14"
      },
      "execution_count": 12,
      "outputs": [
        {
          "output_type": "execute_result",
          "data": {
            "text/plain": [
              "list[1, 2, 3, 4, 7, 8]"
            ]
          },
          "metadata": {},
          "execution_count": 12
        }
      ]
    },
    {
      "cell_type": "code",
      "source": [
        "#tuple in python(immutable)\n",
        "tuple=(1,2,3,4)\n"
      ],
      "metadata": {
        "id": "kjiS7i1KaoK6"
      },
      "execution_count": 18,
      "outputs": []
    },
    {
      "cell_type": "code",
      "source": [
        "#change of element in list\n",
        "my_list = [1,2,3,4,7,8]\n",
        "my_list[2] = 100\n",
        "print(my_list)"
      ],
      "metadata": {
        "colab": {
          "base_uri": "https://localhost:8080/"
        },
        "id": "h2UlSk9hbYsz",
        "outputId": "8ac9d0e4-e33c-4f34-e6fe-476737d88695"
      },
      "execution_count": 25,
      "outputs": [
        {
          "output_type": "stream",
          "name": "stdout",
          "text": [
            "[1, 2, 100, 4, 7, 8]\n"
          ]
        }
      ]
    },
    {
      "cell_type": "code",
      "source": [
        "#change of element in tuple(immutable)\n",
        "my_tuple = (1,2,3,4)\n",
        "# Attempting to change an element in a tuple will raise a TypeError\n",
        "# my_tuple[2] = 100\n",
        "print(my_tuple)"
      ],
      "metadata": {
        "colab": {
          "base_uri": "https://localhost:8080/"
        },
        "id": "0U3Ycy7VctUL",
        "outputId": "a347101b-619d-463e-a640-123bfe6a30be"
      },
      "execution_count": 32,
      "outputs": [
        {
          "output_type": "stream",
          "name": "stdout",
          "text": [
            "(1, 2, 3, 4)\n"
          ]
        }
      ]
    },
    {
      "cell_type": "markdown",
      "source": [
        " #6. Write a function to demonstrate the behavior of mutable and immutable arguments."
      ],
      "metadata": {
        "id": "Hu04xt6kdmYG"
      }
    },
    {
      "cell_type": "code",
      "source": [
        "def demonstrate_mutable_immutable(mutable_list, immutable_int):\n",
        "  \"\"\"\n",
        "  Demonstrates the behavior of mutable and immutable arguments.\n",
        "\n",
        "  Args:\n",
        "    mutable_list: A mutable list.\n",
        "    immutable_int: An immutable integer.\n",
        "  \"\"\"\n",
        "  print(\"Inside the function:\")\n",
        "  print(\"Initial mutable_list:\", mutable_list)\n",
        "  print(\"Initial immutable_int:\", immutable_int)\n",
        "\n",
        "  # Modify the mutable list (this will affect the original list)\n",
        "  mutable_list.append(4)\n",
        "  print(\"Modified mutable_list inside function:\", mutable_list)\n",
        "\n",
        "  # Attempt to modify the immutable integer (this creates a new object inside the function)\n",
        "  immutable_int += 10\n",
        "  print(\"Modified immutable_int inside function:\", immutable_int)\n",
        "\n",
        "# Example usage:\n",
        "my_list = [1, 2, 3]\n",
        "my_int = 5\n",
        "\n",
        "print(\"Outside the function (before call):\")\n",
        "print(\"my_list:\", my_list)\n",
        "print(\"my_int:\", my_int)\n",
        "\n",
        "demonstrate_mutable_immutable(my_list, my_int)\n",
        "\n",
        "print(\"Outside the function (after call):\")\n",
        "print(\"my_list:\", my_list) # The list is changed because it's mutable\n",
        "print(\"my_int:\", my_int) # The integer is unchanged because it's immutable"
      ],
      "metadata": {
        "colab": {
          "base_uri": "https://localhost:8080/"
        },
        "id": "-tMNfInZdwr6",
        "outputId": "70dac1ac-2075-4b72-bc90-95b6db82503a"
      },
      "execution_count": 33,
      "outputs": [
        {
          "output_type": "stream",
          "name": "stdout",
          "text": [
            "Outside the function (before call):\n",
            "my_list: [1, 2, 3]\n",
            "my_int: 5\n",
            "Inside the function:\n",
            "Initial mutable_list: [1, 2, 3]\n",
            "Initial immutable_int: 5\n",
            "Modified mutable_list inside function: [1, 2, 3, 4]\n",
            "Modified immutable_int inside function: 15\n",
            "Outside the function (after call):\n",
            "my_list: [1, 2, 3, 4]\n",
            "my_int: 5\n"
          ]
        }
      ]
    },
    {
      "cell_type": "markdown",
      "source": [
        "#7.Write a program that performs basic arithmetic operations on two user-input numbers"
      ],
      "metadata": {
        "id": "N-gPUfjGeJEj"
      }
    },
    {
      "cell_type": "code",
      "source": [
        "num1 = float(input(\"Enter the first number: \"))\n",
        "num2 = float(input(\"Enter the second number: \"))"
      ],
      "metadata": {
        "colab": {
          "base_uri": "https://localhost:8080/"
        },
        "id": "sjB-ilBkhxov",
        "outputId": "7d3b5fc6-3ec4-4b00-e21f-7d9c1e3cb847"
      },
      "execution_count": 41,
      "outputs": [
        {
          "name": "stdout",
          "output_type": "stream",
          "text": [
            "Enter the first number: 10\n",
            "Enter the second number: 20\n"
          ]
        }
      ]
    },
    {
      "cell_type": "code",
      "source": [
        "print(\"Addition:\", num1 + num2)\n",
        "print(\"Subtraction:\", num1 - num2)\n",
        "print(\"Multiplication:\", num1 * num2)\n",
        "print(\"Division:\", num1 / num2)"
      ],
      "metadata": {
        "colab": {
          "base_uri": "https://localhost:8080/"
        },
        "id": "ICl-sZ5Mh_xn",
        "outputId": "a953c18e-9be2-4049-cea8-91a57da6533e"
      },
      "execution_count": 42,
      "outputs": [
        {
          "output_type": "stream",
          "name": "stdout",
          "text": [
            "Addition: 30.0\n",
            "Subtraction: -10.0\n",
            "Multiplication: 200.0\n",
            "Division: 0.5\n"
          ]
        }
      ]
    },
    {
      "cell_type": "markdown",
      "source": [
        "#.8 Write a program to demonstrate the use of logical operators"
      ],
      "metadata": {
        "id": "7uzu8azgiIni"
      }
    },
    {
      "cell_type": "code",
      "source": [
        "#logical AND\n",
        "x=2\n",
        "y=3\n",
        "if x>0 and y<10:\n",
        "  print(\"both conditions are true\")\n",
        "else:print(\"one condition is false\")\n",
        "\n",
        "#Logical OR\n",
        "X=4\n",
        "Y=7\n",
        "if x>0 or y<10:\n",
        "  print(\"both conditions are true\")\n",
        "else:\n",
        "    print(\"one condition is true\")\n",
        "\n",
        "#logical NOT\n",
        "if not x==y:\n",
        "  print(\"x is not equal to y\")\n",
        "else:print(\"x is equal to y\")"
      ],
      "metadata": {
        "colab": {
          "base_uri": "https://localhost:8080/"
        },
        "id": "5X7BnLQSiQDg",
        "outputId": "f5d38e39-f1d7-4c37-e7e3-d58b5bbce38f"
      },
      "execution_count": 47,
      "outputs": [
        {
          "output_type": "stream",
          "name": "stdout",
          "text": [
            "both conditions are true\n",
            "both conditions are true\n",
            "x is not equal to y\n"
          ]
        }
      ]
    },
    {
      "cell_type": "markdown",
      "source": [
        "# 9  Write a Python program to convert user input from string to integer, float, and boolean types.\n",
        "\n"
      ],
      "metadata": {
        "id": "uMzsfOvSk0qM"
      }
    },
    {
      "cell_type": "code",
      "source": [
        "#user input from string to integer\n",
        "string_value = input(\"Enter a string value: \")\n",
        "integer_value = int(string_value)\n",
        "print(\"Integer value:\", integer_value)\n",
        "##user input from string to float\n",
        "string_value = input(\"Enter a string value: \")\n",
        "float_value = float(string_value)\n",
        "print(\"Float value:\", float_value)\n",
        "#user input from string to boolean\n",
        "string_value = input(\"Enter a string value: \")\n",
        "boolean_value = bool(string_value)\n",
        "print(\"Boolean value:\", boolean_value)"
      ],
      "metadata": {
        "colab": {
          "base_uri": "https://localhost:8080/"
        },
        "id": "3fVgfLivm7sO",
        "outputId": "804738a4-04bb-44ee-b407-afa4d4913247"
      },
      "execution_count": 55,
      "outputs": [
        {
          "output_type": "stream",
          "name": "stdout",
          "text": [
            "Enter a string value: 100\n",
            "Integer value: 100\n",
            "Enter a string value: 100\n",
            "Float value: 100.0\n",
            "Enter a string value: 22\n",
            "Boolean value: True\n"
          ]
        }
      ]
    },
    {
      "cell_type": "markdown",
      "source": [
        "#10.Write code to demonstrate type casting with list elements."
      ],
      "metadata": {
        "id": "XVl-JAj1nP-B"
      }
    },
    {
      "cell_type": "code",
      "source": [
        "my_list = [1, 2.5, \"3\", True]\n",
        "\n",
        "# Convert all elements to integers\n",
        "int_list = [int(x) for x in my_list]\n",
        "print(\"Integer list:\", int_list)\n",
        "\n",
        "# Convert all elements to float\n",
        "float_list = [float(x) for x in my_list]\n",
        "print(\"Float list:\", float_list)\n",
        "\n",
        "# Convert all elements to string\n",
        "str_list = [str(x) for x in my_list]\n",
        "print(\"String list:\", str_list)\n",
        "\n",
        "# Convert all elements to boolean\n",
        "bool_list = [bool(x) for x in my_list]\n",
        "print(\"Boolean list:\", bool_list)"
      ],
      "metadata": {
        "colab": {
          "base_uri": "https://localhost:8080/"
        },
        "id": "w6qZcp9ioQ2x",
        "outputId": "bda8ea29-1fea-401f-a980-7beba103fc88"
      },
      "execution_count": 57,
      "outputs": [
        {
          "output_type": "stream",
          "name": "stdout",
          "text": [
            "Integer list: [1, 2, 3, 1]\n",
            "Float list: [1.0, 2.5, 3.0, 1.0]\n",
            "String list: ['1', '2.5', '3', 'True']\n",
            "Boolean list: [True, True, True, True]\n"
          ]
        }
      ]
    },
    {
      "cell_type": "markdown",
      "source": [
        "# 11.Write a program that checks if a number is positive, negative, or zero."
      ],
      "metadata": {
        "id": "rrxLYW8PoY04"
      }
    },
    {
      "cell_type": "code",
      "source": [
        "num = float(input(\"Enter a number: \"))\n",
        "if num > 0:\n",
        "   print(\"Positive number\")\n",
        "elif num == 0:\n",
        "   print(\"Zero\")\n",
        "else:\n",
        "   print(\"Negative number\")\n"
      ],
      "metadata": {
        "colab": {
          "base_uri": "https://localhost:8080/"
        },
        "id": "_dheh5_Po9oR",
        "outputId": "3baa35ec-bf35-4881-a7ac-659ee2c41fbd"
      },
      "execution_count": 62,
      "outputs": [
        {
          "output_type": "stream",
          "name": "stdout",
          "text": [
            "Enter a number: 2\n",
            "Positive number\n"
          ]
        }
      ]
    },
    {
      "cell_type": "markdown",
      "source": [
        "# 12. Write a for loop to print numbers from 1 to 10."
      ],
      "metadata": {
        "id": "q8REzOOrptuA"
      }
    },
    {
      "cell_type": "code",
      "source": [
        "list(range(1,11))\n",
        "for i in range(1,11):\n",
        "  print(i)\n"
      ],
      "metadata": {
        "colab": {
          "base_uri": "https://localhost:8080/"
        },
        "id": "JXSVqYOmp4DI",
        "outputId": "1d81cdf2-4f81-4a7b-805c-9bead0db92dd"
      },
      "execution_count": 65,
      "outputs": [
        {
          "output_type": "stream",
          "name": "stdout",
          "text": [
            "1\n",
            "2\n",
            "3\n",
            "4\n",
            "5\n",
            "6\n",
            "7\n",
            "8\n",
            "9\n",
            "10\n"
          ]
        }
      ]
    },
    {
      "cell_type": "markdown",
      "source": [
        "# 13.  Write a Python program to find the sum of all even numbers between 1 and 50"
      ],
      "metadata": {
        "id": "sIxix0TrqjCD"
      }
    },
    {
      "cell_type": "code",
      "source": [
        "sum_of_evens = 0\n",
        "for number in range(2, 51, 2):\n",
        "    sum_of_evens += number\n",
        "print(sum_of_evens)"
      ],
      "metadata": {
        "colab": {
          "base_uri": "https://localhost:8080/"
        },
        "id": "L0dAqn5JqqSn",
        "outputId": "b9b4cf3f-9478-4a25-b8c0-90dc6678997c"
      },
      "execution_count": 66,
      "outputs": [
        {
          "output_type": "stream",
          "name": "stdout",
          "text": [
            "650\n"
          ]
        }
      ]
    },
    {
      "cell_type": "markdown",
      "source": [
        "# 14. Write a program to reverse a string using a while loop."
      ],
      "metadata": {
        "id": "n5OuJlLCrPqr"
      }
    },
    {
      "cell_type": "code",
      "source": [
        "string = \"hello\"\n",
        "reversed_string = reverse_string(string)\n",
        "print(f\"Original string: {string}\")\n",
        "print(f\"Reversed string: {reversed_string}\")"
      ],
      "metadata": {
        "colab": {
          "base_uri": "https://localhost:8080/"
        },
        "id": "_xpW5a5HrhhV",
        "outputId": "89dfd8ad-bb5a-4c44-9352-e813845144dc"
      },
      "execution_count": 69,
      "outputs": [
        {
          "output_type": "stream",
          "name": "stdout",
          "text": [
            "Original string: hello\n",
            "Reversed string: olleh\n"
          ]
        }
      ]
    },
    {
      "cell_type": "markdown",
      "source": [
        "# 15. Write a Python program to calculate the factorial of a number provided by the user using a while loop"
      ],
      "metadata": {
        "id": "NzEN0edwr1kX"
      }
    },
    {
      "cell_type": "code",
      "source": [
        "num = int(input(\"Enter a non-negative integer: \"))\n",
        "\n",
        "if num < 0:\n",
        "    print(\"Factorial is not defined for negative numbers.\")\n",
        "elif num == 0:\n",
        "    print(\"The factorial of 0 is 1\")\n",
        "else:\n",
        "    factorial = 1\n",
        "    i = 1\n",
        "    while i <= num:\n",
        "        factorial *= i\n",
        "        i += 1\n",
        "    print(\"The factorial of\", num, \"is\", factorial)\n",
        ""
      ],
      "metadata": {
        "colab": {
          "base_uri": "https://localhost:8080/"
        },
        "id": "V5M23OAFsBAV",
        "outputId": "3a115f05-c286-48c3-e776-f52438d4d16d"
      },
      "execution_count": 71,
      "outputs": [
        {
          "output_type": "stream",
          "name": "stdout",
          "text": [
            "Enter a non-negative integer: 10\n",
            "The factorial of 10 is 3628800\n"
          ]
        }
      ]
    }
  ]
}